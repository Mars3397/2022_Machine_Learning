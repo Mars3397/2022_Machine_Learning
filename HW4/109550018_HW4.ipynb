{
 "cells": [
  {
   "cell_type": "code",
   "execution_count": 1,
   "metadata": {},
   "outputs": [],
   "source": [
    "import numpy as np\n",
    "import pandas as pd\n",
    "from sklearn.svm import SVC, SVR\n",
    "from sklearn.metrics import accuracy_score\n",
    "from tqdm import trange"
   ]
  },
  {
   "cell_type": "markdown",
   "metadata": {},
   "source": [
    "## Load data"
   ]
  },
  {
   "cell_type": "code",
   "execution_count": 2,
   "metadata": {},
   "outputs": [],
   "source": [
    "x_train = np.load(\"x_train.npy\")\n",
    "y_train = np.load(\"y_train.npy\")\n",
    "x_test = np.load(\"x_test.npy\")\n",
    "# y_test = np.load(\"y_test.npy\")"
   ]
  },
  {
   "cell_type": "code",
   "execution_count": 3,
   "metadata": {},
   "outputs": [
    {
     "name": "stdout",
     "output_type": "stream",
     "text": [
      "(7000, 300)\n"
     ]
    }
   ],
   "source": [
    "# 7000 data with 300 features\n",
    "print(x_train.shape)"
   ]
  },
  {
   "cell_type": "code",
   "execution_count": 4,
   "metadata": {},
   "outputs": [
    {
     "name": "stdout",
     "output_type": "stream",
     "text": [
      "[0 1]\n"
     ]
    }
   ],
   "source": [
    "# It's a binary classification problem \n",
    "print(np.unique(y_train))"
   ]
  },
  {
   "cell_type": "markdown",
   "metadata": {},
   "source": [
    "## Question 1\n",
    "K-fold data partition: Implement the K-fold cross-validation function. Your function should take K as an argument and return a list of lists (len(list) should equal to K), which contains K elements. Each element is a list contains two parts, the first part contains the index of all training folds, e.g. Fold 2 to Fold 5 in split 1. The second part contains the index of validation fold, e.g. Fold 1 in  split 1"
   ]
  },
  {
   "cell_type": "code",
   "execution_count": 5,
   "metadata": {},
   "outputs": [],
   "source": [
    "def cross_validation(x_train, y_train, k=5):\n",
    "    ret = []\n",
    "    mod, l, i = len(x_train) % k, len(x_train) // k, 0\n",
    "    arr = np.arange(len(x_train))\n",
    "    np.random.shuffle(arr)\n",
    "    while i < len(x_train):\n",
    "        if mod > 0:\n",
    "            ret.append([np.concatenate((arr[:i], arr[i+l+1:]), axis=0), arr[i:i+l+1]])\n",
    "            i += l + 1\n",
    "            mod -= 1\n",
    "        else:\n",
    "            ret.append([np.concatenate((arr[:i], arr[i+l:]), axis=0), arr[i:i+l]])  \n",
    "            i += l\n",
    "    return ret"
   ]
  },
  {
   "cell_type": "code",
   "execution_count": 6,
   "metadata": {},
   "outputs": [],
   "source": [
    "kfold_data = cross_validation(x_train, y_train, k=10)\n",
    "assert len(kfold_data) == 10 # should contain 10 fold of data\n",
    "assert len(kfold_data[0]) == 2 # each element should contain train fold and validation fold\n",
    "assert kfold_data[0][1].shape[0] == 700 # The number of data in each validation fold should equal to training data divieded by K"
   ]
  },
  {
   "cell_type": "markdown",
   "metadata": {},
   "source": [
    "## example"
   ]
  },
  {
   "cell_type": "code",
   "execution_count": 7,
   "metadata": {},
   "outputs": [],
   "source": [
    "# from sklearn.model_selection import KFold\n",
    "\n",
    "# X = np.arange(20)\n",
    "# kf = KFold(n_splits=5, shuffle=True)\n",
    "# kfold_data= []\n",
    "# for i, (train_index, val_index) in enumerate(kf.split(X)):\n",
    "#     print(\"Split: %s, Training index: %s, Validation index: %s\" % (i+1, train_index, val_index))\n",
    "#     kfold_data.append([train_index, val_index])"
   ]
  },
  {
   "cell_type": "code",
   "execution_count": 8,
   "metadata": {},
   "outputs": [],
   "source": [
    "# assert len(kfold_data) == 5 # should contain 5 fold of data\n",
    "# assert len(kfold_data[0]) == 2 # each element should contains index of training fold and validation fold\n",
    "# assert kfold_data[0][1].shape[0] == 4 # The number of data in each validation fold should equal to training data divieded by K"
   ]
  },
  {
   "cell_type": "markdown",
   "metadata": {},
   "source": [
    "## Question 2\n",
    "Using sklearn.svm.SVC to train a classifier on the provided train set and conduct the grid search of “C” and “gamma” to find the best parameters by cross-validation."
   ]
  },
  {
   "cell_type": "code",
   "execution_count": 9,
   "metadata": {},
   "outputs": [],
   "source": [
    "clf = SVC(C=1.0, kernel='rbf', gamma=0.01)\n",
    "kfold_data = cross_validation(x_train, y_train, k=5)"
   ]
  },
  {
   "cell_type": "code",
   "execution_count": 10,
   "metadata": {},
   "outputs": [],
   "source": [
    "## your code\n",
    "best_score, best_c, best_g = 0, 0, 0\n",
    "C = [1, 10, 100, 1000, 10000]\n",
    "G = [0.000001, 0.00001, 0.0001, 0.001, 0.01]\n",
    "arr = []\n",
    "for c in C:\n",
    "    row = []\n",
    "    for g in G: \n",
    "        total_accuracy = 0\n",
    "        clf = SVC(C=c, kernel='rbf', gamma=g)\n",
    "        for split in kfold_data:\n",
    "            clf.fit([x_train[i] for i in split[0]], [y_train[i] for i in split[0]])\n",
    "            y_pred = clf.predict([x_train[i] for i in split[1]])\n",
    "            total_accuracy += accuracy_score([y_train[i] for i in split[1]], y_pred)\n",
    "        avg_accuracy = total_accuracy / len(kfold_data)\n",
    "        row.append(round(avg_accuracy, 3))\n",
    "        if avg_accuracy > best_score:\n",
    "            best_score, best_c, best_g = avg_accuracy, c, g\n",
    "        g += 0.001\n",
    "    arr.append(row)\n",
    "    c += 1\n",
    "\n",
    "best_parameters = best_c, best_g"
   ]
  },
  {
   "cell_type": "code",
   "execution_count": 14,
   "metadata": {},
   "outputs": [
    {
     "name": "stdout",
     "output_type": "stream",
     "text": [
      "(1, 0.0001)\n"
     ]
    }
   ],
   "source": [
    "print(best_parameters)"
   ]
  },
  {
   "cell_type": "markdown",
   "metadata": {},
   "source": [
    "## Question 3\n",
    "Plot the grid search results of your SVM. The x, y represents the hyperparameters of “gamma” and “C”, respectively. And the color represents the average score of validation folds\n",
    "You reults should be look like this reference image below ![image](https://miro.medium.com/max/1296/1*wGWTup9r4cVytB5MOnsjdQ.png) "
   ]
  },
  {
   "cell_type": "code",
   "execution_count": 15,
   "metadata": {},
   "outputs": [
    {
     "data": {
      "image/png": "[encoded data removed]",
      "text/plain": [
       "<Figure size 1152x720 with 2 Axes>"
      ]
     },
     "metadata": {
      "needs_background": "light"
     },
     "output_type": "display_data"
    }
   ],
   "source": [
    "import matplotlib.pyplot as plt\n",
    "\n",
    "fig = plt.figure(figsize=((16, 10)))\n",
    "ax = fig.add_subplot(1, 1, 1)\n",
    "img = ax.imshow(arr, cmap=\"RdBu\")\n",
    "ax.set_title(\"Hyperpparameter Gridsearch\")\n",
    "ax.set_xticks(np.arange(len(G)))\n",
    "ax.set_yticks(np.arange(len(C)))\n",
    "ax.set_xticklabels(G)\n",
    "ax.set_yticklabels(C)\n",
    "ax.set_xlabel('Gamma')\n",
    "ax.set_ylabel('C')\n",
    "for i in range(len(C)):\n",
    "    for j in range(len(G)):\n",
    "        ax.text(j, i, f'{arr[i][j]:.2f}',\n",
    "                ha=\"center\", va=\"center\", color=\"w\")\n",
    "ax.figure.colorbar(img, ax=ax)\n",
    "plt.savefig('myimage.svg', format='svg', dpi=1200)\n",
    "plt.show()"
   ]
  },
  {
   "cell_type": "markdown",
   "metadata": {},
   "source": [
    "## Question 4\n",
    "Train your SVM model by the best parameters you found from question 2 on the whole training set and evaluate the performance on the test set."
   ]
  },
  {
   "cell_type": "code",
   "execution_count": 13,
   "metadata": {},
   "outputs": [
    {
     "ename": "NameError",
     "evalue": "name 'y_test' is not defined",
     "output_type": "error",
     "traceback": [
      "\u001b[0;31m---------------------------------------------------------------------------\u001b[0m",
      "\u001b[0;31mNameError\u001b[0m                                 Traceback (most recent call last)",
      "\u001b[1;32m/Users/guoyun/Desktop/機器學習/CS_CS20024/HW4/HW4.ipynb Cell 19\u001b[0m in \u001b[0;36m<cell line: 4>\u001b[0;34m()\u001b[0m\n\u001b[1;32m      <a href='vscode-notebook-cell:/Users/guoyun/Desktop/%E6%A9%9F%E5%99%A8%E5%AD%B8%E7%BF%92/CS_CS20024/HW4/HW4.ipynb#X23sZmlsZQ%3D%3D?line=1'>2</a>\u001b[0m best_model\u001b[39m.\u001b[39mfit(x_train, y_train)\n\u001b[1;32m      <a href='vscode-notebook-cell:/Users/guoyun/Desktop/%E6%A9%9F%E5%99%A8%E5%AD%B8%E7%BF%92/CS_CS20024/HW4/HW4.ipynb#X23sZmlsZQ%3D%3D?line=2'>3</a>\u001b[0m y_pred \u001b[39m=\u001b[39m best_model\u001b[39m.\u001b[39mpredict(x_test)\n\u001b[0;32m----> <a href='vscode-notebook-cell:/Users/guoyun/Desktop/%E6%A9%9F%E5%99%A8%E5%AD%B8%E7%BF%92/CS_CS20024/HW4/HW4.ipynb#X23sZmlsZQ%3D%3D?line=3'>4</a>\u001b[0m \u001b[39mprint\u001b[39m(\u001b[39m\"\u001b[39m\u001b[39mAccuracy score: \u001b[39m\u001b[39m\"\u001b[39m, accuracy_score(y_pred, y_test))\n",
      "\u001b[0;31mNameError\u001b[0m: name 'y_test' is not defined"
     ]
    }
   ],
   "source": [
    "best_model = SVC(C=best_parameters[0], kernel='rbf', gamma=best_parameters[1])\n",
    "best_model.fit(x_train, y_train)\n",
    "y_pred = best_model.predict(x_test)\n",
    "print(\"Accuracy score: \", accuracy_score(y_pred, y_test))"
   ]
  }
 ],
 "metadata": {
  "kernelspec": {
   "display_name": "Python 3.9.10 64-bit ('base')",
   "language": "python",
   "name": "python3"
  },
  "language_info": {
   "codemirror_mode": {
    "name": "ipython",
    "version": 3
   },
   "file_extension": ".py",
   "mimetype": "text/x-python",
   "name": "python",
   "nbconvert_exporter": "python",
   "pygments_lexer": "ipython3",
   "version": "3.9.10"
  },
  "vscode": {
   "interpreter": {
    "hash": "e3ae70e51d0a81f5a9ce9a5aa0bda06ada15e9af7deae70d5f488fbd6e54dce1"
   }
  }
 },
 "nbformat": 4,
 "nbformat_minor": 4
}
